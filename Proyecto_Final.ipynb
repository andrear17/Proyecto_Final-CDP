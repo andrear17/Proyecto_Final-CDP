{
 "cells": [
  {
   "source": [
    "# Proyecto Final\n",
    "\n",
    "### Integrantes:\n",
    "* Daniel Cifuentes\n",
    "* Andrea Rivas"
   ],
   "cell_type": "markdown",
   "metadata": {}
  },
  {
   "cell_type": "code",
   "execution_count": 43,
   "metadata": {},
   "outputs": [],
   "source": [
    "# Librerias\n",
    "import numpy as np\n",
    "import pandas as pd\n",
    "# Extra\n",
    "from sklearn.model_selection import train_test_split"
   ]
  },
  {
   "cell_type": "code",
   "execution_count": 44,
   "metadata": {},
   "outputs": [
    {
     "output_type": "execute_result",
     "data": {
      "text/plain": [
       "             0    1       2    3       4     5\n",
       "0     208500.0  7.0   856.0  8.0  2003.0  65.0\n",
       "1     181500.0  6.0  1262.0  6.0  1976.0  80.0\n",
       "2     223500.0  7.0   920.0  6.0  2001.0  68.0\n",
       "3     140000.0  7.0   961.0  7.0  1915.0  60.0\n",
       "4     250000.0  8.0  1145.0  9.0  2000.0  84.0\n",
       "...        ...  ...     ...  ...     ...   ...\n",
       "1455  175000.0  6.0   953.0  7.0  1999.0  62.0\n",
       "1456  210000.0  6.0  2073.0  7.0  1978.0  85.0\n",
       "1457  266500.0  7.0  1188.0  9.0  1941.0  66.0\n",
       "1458  142125.0  5.0  1078.0  5.0  1950.0  68.0\n",
       "1459  147500.0  5.0  1256.0  6.0  1965.0  75.0\n",
       "\n",
       "[1460 rows x 6 columns]"
      ],
      "text/html": "<div>\n<style scoped>\n    .dataframe tbody tr th:only-of-type {\n        vertical-align: middle;\n    }\n\n    .dataframe tbody tr th {\n        vertical-align: top;\n    }\n\n    .dataframe thead th {\n        text-align: right;\n    }\n</style>\n<table border=\"1\" class=\"dataframe\">\n  <thead>\n    <tr style=\"text-align: right;\">\n      <th></th>\n      <th>0</th>\n      <th>1</th>\n      <th>2</th>\n      <th>3</th>\n      <th>4</th>\n      <th>5</th>\n    </tr>\n  </thead>\n  <tbody>\n    <tr>\n      <th>0</th>\n      <td>208500.0</td>\n      <td>7.0</td>\n      <td>856.0</td>\n      <td>8.0</td>\n      <td>2003.0</td>\n      <td>65.0</td>\n    </tr>\n    <tr>\n      <th>1</th>\n      <td>181500.0</td>\n      <td>6.0</td>\n      <td>1262.0</td>\n      <td>6.0</td>\n      <td>1976.0</td>\n      <td>80.0</td>\n    </tr>\n    <tr>\n      <th>2</th>\n      <td>223500.0</td>\n      <td>7.0</td>\n      <td>920.0</td>\n      <td>6.0</td>\n      <td>2001.0</td>\n      <td>68.0</td>\n    </tr>\n    <tr>\n      <th>3</th>\n      <td>140000.0</td>\n      <td>7.0</td>\n      <td>961.0</td>\n      <td>7.0</td>\n      <td>1915.0</td>\n      <td>60.0</td>\n    </tr>\n    <tr>\n      <th>4</th>\n      <td>250000.0</td>\n      <td>8.0</td>\n      <td>1145.0</td>\n      <td>9.0</td>\n      <td>2000.0</td>\n      <td>84.0</td>\n    </tr>\n    <tr>\n      <th>...</th>\n      <td>...</td>\n      <td>...</td>\n      <td>...</td>\n      <td>...</td>\n      <td>...</td>\n      <td>...</td>\n    </tr>\n    <tr>\n      <th>1455</th>\n      <td>175000.0</td>\n      <td>6.0</td>\n      <td>953.0</td>\n      <td>7.0</td>\n      <td>1999.0</td>\n      <td>62.0</td>\n    </tr>\n    <tr>\n      <th>1456</th>\n      <td>210000.0</td>\n      <td>6.0</td>\n      <td>2073.0</td>\n      <td>7.0</td>\n      <td>1978.0</td>\n      <td>85.0</td>\n    </tr>\n    <tr>\n      <th>1457</th>\n      <td>266500.0</td>\n      <td>7.0</td>\n      <td>1188.0</td>\n      <td>9.0</td>\n      <td>1941.0</td>\n      <td>66.0</td>\n    </tr>\n    <tr>\n      <th>1458</th>\n      <td>142125.0</td>\n      <td>5.0</td>\n      <td>1078.0</td>\n      <td>5.0</td>\n      <td>1950.0</td>\n      <td>68.0</td>\n    </tr>\n    <tr>\n      <th>1459</th>\n      <td>147500.0</td>\n      <td>5.0</td>\n      <td>1256.0</td>\n      <td>6.0</td>\n      <td>1965.0</td>\n      <td>75.0</td>\n    </tr>\n  </tbody>\n</table>\n<p>1460 rows × 6 columns</p>\n</div>"
     },
     "metadata": {},
     "execution_count": 44
    }
   ],
   "source": [
    "data = pd.DataFrame(np.load('./data/proyecto_training_data.npy'))\n",
    "data"
   ]
  },
  {
   "cell_type": "code",
   "execution_count": 45,
   "metadata": {},
   "outputs": [],
   "source": [
    "# Separación de train (80%) y test (20%)\n",
    "train, test = train_test_split(data, test_size = 0.2)"
   ]
  },
  {
   "cell_type": "code",
   "execution_count": 46,
   "metadata": {},
   "outputs": [
    {
     "output_type": "stream",
     "name": "stdout",
     "text": [
      "<class 'pandas.core.frame.DataFrame'>\nInt64Index: 1168 entries, 1157 to 438\nData columns (total 6 columns):\n #   Column  Non-Null Count  Dtype  \n---  ------  --------------  -----  \n 0   0       1168 non-null   float64\n 1   1       1168 non-null   float64\n 2   2       1168 non-null   float64\n 3   3       1168 non-null   float64\n 4   4       1168 non-null   float64\n 5   5       976 non-null    float64\ndtypes: float64(6)\nmemory usage: 63.9 KB\n"
     ]
    }
   ],
   "source": [
    "# Resumen \n",
    "train.info()"
   ]
  },
  {
   "source": [
    "## 3. Análisis Exploratorio"
   ],
   "cell_type": "markdown",
   "metadata": {}
  },
  {
   "cell_type": "code",
   "execution_count": 47,
   "metadata": {},
   "outputs": [
    {
     "output_type": "execute_result",
     "data": {
      "text/plain": [
       "0    179340.991438\n",
       "1         6.088185\n",
       "2      1159.931507\n",
       "3         6.515411\n",
       "4      1971.469178\n",
       "5        70.261270\n",
       "dtype: float64"
      ]
     },
     "metadata": {},
     "execution_count": 47
    }
   ],
   "source": [
    "# Media \n",
    "train.mean()"
   ]
  },
  {
   "cell_type": "code",
   "execution_count": 48,
   "metadata": {},
   "outputs": [
    {
     "output_type": "execute_result",
     "data": {
      "text/plain": [
       "0    755000.0\n",
       "1        10.0\n",
       "2      4692.0\n",
       "3        14.0\n",
       "4      2010.0\n",
       "5       313.0\n",
       "dtype: float64"
      ]
     },
     "metadata": {},
     "execution_count": 48
    }
   ],
   "source": [
    "# Valores máximos\n",
    "train.max()"
   ]
  },
  {
   "cell_type": "code",
   "execution_count": 49,
   "metadata": {},
   "outputs": [
    {
     "output_type": "execute_result",
     "data": {
      "text/plain": [
       "0    35311.0\n",
       "1        1.0\n",
       "2      372.0\n",
       "3        3.0\n",
       "4     1872.0\n",
       "5       21.0\n",
       "dtype: float64"
      ]
     },
     "metadata": {},
     "execution_count": 49
    }
   ],
   "source": [
    "# Valores mínimos\n",
    "train.min()"
   ]
  },
  {
   "cell_type": "code",
   "execution_count": 50,
   "metadata": {},
   "outputs": [],
   "source": [
    "# Rango"
   ]
  },
  {
   "cell_type": "code",
   "execution_count": 51,
   "metadata": {},
   "outputs": [
    {
     "output_type": "execute_result",
     "data": {
      "text/plain": [
       "0    75494.541489\n",
       "1        1.375485\n",
       "2      380.780894\n",
       "3        1.598447\n",
       "4       30.418600\n",
       "5       24.530387\n",
       "dtype: float64"
      ]
     },
     "metadata": {},
     "execution_count": 51
    }
   ],
   "source": [
    "# Desviación estándar\n",
    "train.std()"
   ]
  },
  {
   "source": [
    "## 4. Histogramas"
   ],
   "cell_type": "markdown",
   "metadata": {}
  },
  {
   "cell_type": "code",
   "execution_count": null,
   "metadata": {},
   "outputs": [],
   "source": []
  },
  {
   "source": [
    "## 5. Análisis de Selección de Variables"
   ],
   "cell_type": "markdown",
   "metadata": {}
  },
  {
   "cell_type": "code",
   "execution_count": null,
   "metadata": {},
   "outputs": [],
   "source": []
  },
  {
   "cell_type": "code",
   "execution_count": 52,
   "metadata": {},
   "outputs": [
    {
     "output_type": "execute_result",
     "data": {
      "text/plain": [
       "   x   y\n",
       "0  1  20\n",
       "1  3  25\n",
       "2  4  30\n",
       "3  5  40\n",
       "4  6  55"
      ],
      "text/html": "<div>\n<style scoped>\n    .dataframe tbody tr th:only-of-type {\n        vertical-align: middle;\n    }\n\n    .dataframe tbody tr th {\n        vertical-align: top;\n    }\n\n    .dataframe thead th {\n        text-align: right;\n    }\n</style>\n<table border=\"1\" class=\"dataframe\">\n  <thead>\n    <tr style=\"text-align: right;\">\n      <th></th>\n      <th>x</th>\n      <th>y</th>\n    </tr>\n  </thead>\n  <tbody>\n    <tr>\n      <th>0</th>\n      <td>1</td>\n      <td>20</td>\n    </tr>\n    <tr>\n      <th>1</th>\n      <td>3</td>\n      <td>25</td>\n    </tr>\n    <tr>\n      <th>2</th>\n      <td>4</td>\n      <td>30</td>\n    </tr>\n    <tr>\n      <th>3</th>\n      <td>5</td>\n      <td>40</td>\n    </tr>\n    <tr>\n      <th>4</th>\n      <td>6</td>\n      <td>55</td>\n    </tr>\n  </tbody>\n</table>\n</div>"
     },
     "metadata": {},
     "execution_count": 52
    }
   ],
   "source": [
    "# y = β0 + β1 ∗ x\n",
    "b0 = 15\n",
    "b1 = 1\n",
    "a = 0.15\n",
    "data2 = pd.DataFrame({'x': [1, 3, 4, 5, 6], 'y': [20, 25, 30, 40, 55]})\n",
    "data2"
   ]
  },
  {
   "cell_type": "code",
   "execution_count": 53,
   "metadata": {},
   "outputs": [
    {
     "output_type": "execute_result",
     "data": {
      "text/plain": [
       "174.2"
      ]
     },
     "metadata": {},
     "execution_count": 53
    }
   ],
   "source": [
    "y_s = b0 + data2.x * b1\n",
    "error = ((data2.y - y_s) ** 2).sum()/(2 * data2.y.count())\n",
    "error"
   ]
  },
  {
   "cell_type": "code",
   "execution_count": 54,
   "metadata": {},
   "outputs": [
    {
     "output_type": "execute_result",
     "data": {
      "text/plain": [
       "-15.2"
      ]
     },
     "metadata": {},
     "execution_count": 54
    }
   ],
   "source": [
    "#Gradiente b0\n",
    "gb0 = ((y_s - data2.y).sum())/y_s.count()\n",
    "gb0"
   ]
  },
  {
   "cell_type": "code",
   "execution_count": 55,
   "metadata": {},
   "outputs": [
    {
     "output_type": "execute_result",
     "data": {
      "text/plain": [
       "-74.6"
      ]
     },
     "metadata": {},
     "execution_count": 55
    }
   ],
   "source": [
    "# Gradiente b1\n",
    "gb1 = (((y_s - data2.y) * data2.x).sum())/y_s.count()\n",
    "gb1"
   ]
  },
  {
   "cell_type": "code",
   "execution_count": 56,
   "metadata": {},
   "outputs": [
    {
     "output_type": "stream",
     "name": "stdout",
     "text": [
      "17.28 12.19\n"
     ]
    }
   ],
   "source": [
    "#Nuevos valores de b0 y b1\n",
    "nb0 = b0 - a * gb0\n",
    "nb1 = b1 - a * gb1\n",
    "print(nb0, nb1)"
   ]
  },
  {
   "cell_type": "code",
   "execution_count": 117,
   "metadata": {},
   "outputs": [],
   "source": [
    "resultados = {}\n",
    "errores = {}\n",
    "def regresion_lineal(x, y, epoch, iec, a = 0.95): # iec-> imprimir error cada\n",
    "    # Inicializar los betas\n",
    "    b0 = 6\n",
    "    b1 = 8\n",
    "    for i in range(1, epoch):\n",
    "        y_s = b0 + b1 * x #cálculo de y estimado\n",
    "        resultados[i] = y_s\n",
    "\n",
    "        e = ((y - y_s) ** 2).sum()/(2 * y.count()) # cálculo del error\n",
    "        errores[i] = e\n",
    "\n",
    "        if(i % iec == 0): #Imprimir el error cada iec\n",
    "            print(i, \". El error es: \", error)\n",
    "        \n",
    "        gb0 = ((y_s - y).sum())/y_s.count() #Gradinete de b0\n",
    "        gb1 = (((y_s - y) * x).sum())/y_s.count() # Gradiente de b1\n",
    "        \n",
    "        b0 = b0 - a * gb0 #nb0        \n",
    "        b1 = b1 - a * gb1 #nb1\n",
    "    return resultados, errores"
   ]
  },
  {
   "cell_type": "code",
   "execution_count": 118,
   "metadata": {},
   "outputs": [
    {
     "output_type": "stream",
     "name": "stdout",
     "text": [
      "10 . El error es:  174.2\n20 . El error es:  174.2\n30 . El error es:  174.2\n40 . El error es:  174.2\n50 . El error es:  174.2\n"
     ]
    },
    {
     "output_type": "execute_result",
     "data": {
      "text/plain": [
       "({1: 0    14\n",
       "  1    30\n",
       "  2    38\n",
       "  3    46\n",
       "  4    54\n",
       "  Name: x, dtype: int64,\n",
       "  2: 0    -0.63\n",
       "  1    -9.33\n",
       "  2   -13.68\n",
       "  3   -18.03\n",
       "  4   -22.38\n",
       "  Name: x, dtype: float64,\n",
       "  3: 0     243.8658\n",
       "  1     635.2184\n",
       "  2     830.8947\n",
       "  3    1026.5710\n",
       "  4    1222.2473\n",
       "  Name: x, dtype: float64,\n",
       "  4: 0    -3742.949002\n",
       "  1    -9885.483070\n",
       "  2   -12956.750104\n",
       "  3   -16028.017138\n",
       "  4   -19099.284172\n",
       "  Name: x, dtype: float64,\n",
       "  5: 0     61349.088837\n",
       "  1    161875.286722\n",
       "  2    212138.385664\n",
       "  3    262401.484607\n",
       "  4    312664.583549\n",
       "  Name: x, dtype: float64,\n",
       "  6: 0   -1.001328e+06\n",
       "  1   -2.642258e+06\n",
       "  2   -3.462722e+06\n",
       "  3   -4.283187e+06\n",
       "  4   -5.103652e+06\n",
       "  Name: x, dtype: float64,\n",
       "  7: 0    1.634774e+07\n",
       "  1    4.313750e+07\n",
       "  2    5.653237e+07\n",
       "  3    6.992725e+07\n",
       "  4    8.332212e+07\n",
       "  Name: x, dtype: float64,\n",
       "  8: 0   -2.668900e+08\n",
       "  1   -7.042542e+08\n",
       "  2   -9.229364e+08\n",
       "  3   -1.141618e+09\n",
       "  4   -1.360301e+09\n",
       "  Name: x, dtype: float64,\n",
       "  9: 0    4.357196e+09\n",
       "  1    1.149752e+10\n",
       "  2    1.506769e+10\n",
       "  3    1.863785e+10\n",
       "  4    2.220802e+10\n",
       "  Name: x, dtype: float64,\n",
       "  10: 0   -7.113477e+10\n",
       "  1   -1.877064e+11\n",
       "  2   -2.459923e+11\n",
       "  3   -3.042781e+11\n",
       "  4   -3.625639e+11\n",
       "  Name: x, dtype: float64,\n",
       "  11: 0    1.161333e+12\n",
       "  1    3.064460e+12\n",
       "  2    4.016024e+12\n",
       "  3    4.967588e+12\n",
       "  4    5.919151e+12\n",
       "  Name: x, dtype: float64,\n",
       "  12: 0   -1.895971e+13\n",
       "  1   -5.002981e+13\n",
       "  2   -6.556486e+13\n",
       "  3   -8.109991e+13\n",
       "  4   -9.663496e+13\n",
       "  Name: x, dtype: float64,\n",
       "  13: 0    3.095326e+14\n",
       "  1    8.167773e+14\n",
       "  2    1.070400e+15\n",
       "  3    1.324022e+15\n",
       "  4    1.577644e+15\n",
       "  Name: x, dtype: float64,\n",
       "  14: 0   -5.053372e+15\n",
       "  1   -1.333455e+16\n",
       "  2   -1.747515e+16\n",
       "  3   -2.161574e+16\n",
       "  4   -2.575633e+16\n",
       "  Name: x, dtype: float64,\n",
       "  15: 0    8.250042e+16\n",
       "  1    2.176975e+17\n",
       "  2    2.852960e+17\n",
       "  3    3.528945e+17\n",
       "  4    4.204930e+17\n",
       "  Name: x, dtype: float64,\n",
       "  16: 0   -1.346886e+18\n",
       "  1   -3.554088e+18\n",
       "  2   -4.657689e+18\n",
       "  3   -5.761290e+18\n",
       "  4   -6.864891e+18\n",
       "  Name: x, dtype: float64,\n",
       "  17: 0    2.198902e+19\n",
       "  1    5.802338e+19\n",
       "  2    7.604057e+19\n",
       "  3    9.405775e+19\n",
       "  4    1.120749e+20\n",
       "  Name: x, dtype: float64,\n",
       "  18: 0   -3.589886e+20\n",
       "  1   -9.472790e+20\n",
       "  2   -1.241424e+21\n",
       "  3   -1.535569e+21\n",
       "  4   -1.829714e+21\n",
       "  Name: x, dtype: float64,\n",
       "  19: 0    5.860781e+21\n",
       "  1    1.546510e+22\n",
       "  2    2.026726e+22\n",
       "  3    2.506942e+22\n",
       "  4    2.987158e+22\n",
       "  Name: x, dtype: float64,\n",
       "  20: 0   -9.568202e+22\n",
       "  1   -2.524803e+23\n",
       "  2   -3.308795e+23\n",
       "  3   -4.092787e+23\n",
       "  4   -4.876778e+23\n",
       "  Name: x, dtype: float64,\n",
       "  21: 0    1.562087e+24\n",
       "  1    4.121947e+24\n",
       "  2    5.401877e+24\n",
       "  3    6.681807e+24\n",
       "  4    7.961737e+24\n",
       "  Name: x, dtype: float64,\n",
       "  22: 0   -2.550234e+25\n",
       "  1   -6.729414e+25\n",
       "  2   -8.819004e+25\n",
       "  3   -1.090859e+26\n",
       "  4   -1.299818e+26\n",
       "  Name: x, dtype: float64,\n",
       "  23: 0    4.163465e+26\n",
       "  1    1.098632e+27\n",
       "  2    1.439774e+27\n",
       "  3    1.780917e+27\n",
       "  4    2.122059e+27\n",
       "  Name: x, dtype: float64,\n",
       "  24: 0   -6.797195e+27\n",
       "  1   -1.793606e+28\n",
       "  2   -2.350549e+28\n",
       "  3   -2.907492e+28\n",
       "  4   -3.464435e+28\n",
       "  Name: x, dtype: float64,\n",
       "  25: 0    1.109697e+29\n",
       "  1    2.928207e+29\n",
       "  2    3.837462e+29\n",
       "  3    4.746717e+29\n",
       "  4    5.655971e+29\n",
       "  Name: x, dtype: float64,\n",
       "  26: 0   -1.811671e+30\n",
       "  1   -4.780536e+30\n",
       "  2   -6.264969e+30\n",
       "  3   -7.749401e+30\n",
       "  4   -9.233834e+30\n",
       "  Name: x, dtype: float64,\n",
       "  27: 0    2.957701e+31\n",
       "  1    7.804615e+31\n",
       "  2    1.022807e+32\n",
       "  3    1.265153e+32\n",
       "  4    1.507499e+32\n",
       "  Name: x, dtype: float64,\n",
       "  28: 0   -4.828687e+32\n",
       "  1   -1.274167e+33\n",
       "  2   -1.669816e+33\n",
       "  3   -2.065465e+33\n",
       "  4   -2.461114e+33\n",
       "  Name: x, dtype: float64,\n",
       "  29: 0    7.883225e+33\n",
       "  1    2.080181e+34\n",
       "  2    2.726110e+34\n",
       "  3    3.372040e+34\n",
       "  4    4.017969e+34\n",
       "  Name: x, dtype: float64,\n",
       "  30: 0   -1.287001e+35\n",
       "  1   -3.396065e+35\n",
       "  2   -4.450597e+35\n",
       "  3   -5.505129e+35\n",
       "  4   -6.559661e+35\n",
       "  Name: x, dtype: float64,\n",
       "  31: 0    2.101133e+36\n",
       "  1    5.544352e+36\n",
       "  2    7.265962e+36\n",
       "  3    8.987571e+36\n",
       "  4    1.070918e+37\n",
       "  Name: x, dtype: float64,\n",
       "  32: 0   -3.430271e+37\n",
       "  1   -9.051606e+37\n",
       "  2   -1.186227e+38\n",
       "  3   -1.467294e+38\n",
       "  4   -1.748361e+38\n",
       "  Name: x, dtype: float64,\n",
       "  33: 0    5.600197e+38\n",
       "  1    1.477748e+39\n",
       "  2    1.936613e+39\n",
       "  3    2.395477e+39\n",
       "  4    2.854342e+39\n",
       "  Name: x, dtype: float64,\n",
       "  34: 0   -9.142777e+39\n",
       "  1   -2.412545e+40\n",
       "  2   -3.161678e+40\n",
       "  3   -3.910811e+40\n",
       "  4   -4.659945e+40\n",
       "  Name: x, dtype: float64,\n",
       "  35: 0    1.492633e+41\n",
       "  1    3.938675e+41\n",
       "  2    5.161697e+41\n",
       "  3    6.384718e+41\n",
       "  4    7.607739e+41\n",
       "  Name: x, dtype: float64,\n",
       "  36: 0   -2.436844e+42\n",
       "  1   -6.430208e+42\n",
       "  2   -8.426890e+42\n",
       "  3   -1.042357e+43\n",
       "  4   -1.242025e+43\n",
       "  Name: x, dtype: float64,\n",
       "  37: 0    3.978347e+43\n",
       "  1    1.049784e+44\n",
       "  2    1.375758e+44\n",
       "  3    1.701733e+44\n",
       "  4    2.027707e+44\n",
       "  Name: x, dtype: float64,\n",
       "  38: 0   -6.494975e+44\n",
       "  1   -1.713858e+45\n",
       "  2   -2.246038e+45\n",
       "  3   -2.778218e+45\n",
       "  4   -3.310398e+45\n",
       "  Name: x, dtype: float64,\n",
       "  39: 0    1.060358e+46\n",
       "  1    2.798012e+46\n",
       "  2    3.666839e+46\n",
       "  3    4.535666e+46\n",
       "  4    5.404493e+46\n",
       "  Name: x, dtype: float64,\n",
       "  40: 0   -1.731120e+47\n",
       "  1   -4.567982e+47\n",
       "  2   -5.986413e+47\n",
       "  3   -7.404844e+47\n",
       "  4   -8.823275e+47\n",
       "  Name: x, dtype: float64,\n",
       "  41: 0    2.826194e+48\n",
       "  1    7.457603e+48\n",
       "  2    9.773307e+48\n",
       "  3    1.208901e+49\n",
       "  4    1.440471e+49\n",
       "  Name: x, dtype: float64,\n",
       "  42: 0   -4.613992e+49\n",
       "  1   -1.217514e+50\n",
       "  2   -1.595572e+50\n",
       "  3   -1.973629e+50\n",
       "  4   -2.351687e+50\n",
       "  Name: x, dtype: float64,\n",
       "  43: 0    7.532718e+50\n",
       "  1    1.987691e+51\n",
       "  2    2.604901e+51\n",
       "  3    3.222111e+51\n",
       "  4    3.839320e+51\n",
       "  Name: x, dtype: float64,\n",
       "  44: 0   -1.229777e+52\n",
       "  1   -3.245068e+52\n",
       "  2   -4.252713e+52\n",
       "  3   -5.260358e+52\n",
       "  4   -6.268003e+52\n",
       "  Name: x, dtype: float64,\n",
       "  45: 0    2.007712e+53\n",
       "  1    5.297837e+53\n",
       "  2    6.942900e+53\n",
       "  3    8.587962e+53\n",
       "  4    1.023302e+54\n",
       "  Name: x, dtype: float64,\n",
       "  46: 0   -3.277753e+54\n",
       "  1   -8.649150e+54\n",
       "  2   -1.133485e+55\n",
       "  3   -1.402055e+55\n",
       "  4   -1.670625e+55\n",
       "  Name: x, dtype: float64,\n",
       "  47: 0    5.351199e+55\n",
       "  1    1.412044e+56\n",
       "  2    1.850506e+56\n",
       "  3    2.288968e+56\n",
       "  4    2.727431e+56\n",
       "  Name: x, dtype: float64,\n",
       "  48: 0   -8.736267e+56\n",
       "  1   -2.305277e+57\n",
       "  2   -3.021102e+57\n",
       "  3   -3.736927e+57\n",
       "  4   -4.452753e+57\n",
       "  Name: x, dtype: float64,\n",
       "  49: 0    1.426267e+58\n",
       "  1    3.763552e+58\n",
       "  2    4.932195e+58\n",
       "  3    6.100838e+58\n",
       "  4    7.269481e+58\n",
       "  Name: x, dtype: float64,\n",
       "  50: 0   -2.328496e+59\n",
       "  1   -6.144306e+59\n",
       "  2   -8.052210e+59\n",
       "  3   -9.960115e+59\n",
       "  4   -1.186802e+60\n",
       "  Name: x, dtype: float64},\n",
       " {1: 16.2,\n",
       "  2: 1286.7233499999998,\n",
       "  3: 339970.3309994579,\n",
       "  4: 90610091.50249448,\n",
       "  5: 24150504005.062817,\n",
       "  6: 6436886933590.425,\n",
       "  7: 1715637628340060.0,\n",
       "  8: 4.572726695603844e+17,\n",
       "  9: 1.2187789010502867e+20,\n",
       "  10: 3.248438204438085e+22,\n",
       "  11: 8.65813377550219e+24,\n",
       "  12: 2.3076714333699002e+27,\n",
       "  13: 6.150687414254703e+29,\n",
       "  14: 1.6393562411363972e+32,\n",
       "  15: 4.369412236954832e+34,\n",
       "  16: 1.1645890513227484e+37,\n",
       "  17: 3.1040048063902523e+39,\n",
       "  18: 8.273172263770182e+41,\n",
       "  19: 2.205066795164327e+44,\n",
       "  20: 5.877213015893931e+46,\n",
       "  21: 1.5664665084042917e+49,\n",
       "  22: 4.175137629547199e+51,\n",
       "  23: 1.1128086130241099e+54,\n",
       "  24: 2.965993265603902e+56,\n",
       "  25: 7.905327069406054e+58,\n",
       "  26: 2.1070242066635207e+61,\n",
       "  27: 5.615897948925209e+63,\n",
       "  28: 1.4968176290050024e+66,\n",
       "  29: 3.9895009397899503e+68,\n",
       "  30: 1.0633304579105608e+71,\n",
       "  31: 2.834118050815182e+73,\n",
       "  32: 7.553837159653765e+75,\n",
       "  33: 2.0133408281335942e+78,\n",
       "  34: 5.366201580145608e+80,\n",
       "  35: 1.4302655067821668e+83,\n",
       "  36: 3.812118105029035e+85,\n",
       "  37: 1.0160522209184105e+88,\n",
       "  38: 2.7081063261689563e+90,\n",
       "  39: 7.217975339109298e+92,\n",
       "  40: 1.9238228385844987e+95,\n",
       "  41: 5.127607314208469e+97,\n",
       "  42: 1.3666724524421094e+100,\n",
       "  43: 3.642622138962399e+102,\n",
       "  44: 9.708760883816129e+104,\n",
       "  45: 2.5876973867503064e+107,\n",
       "  46: 6.897046745230339e+109,\n",
       "  47: 1.8382850347749146e+112,\n",
       "  48: 4.899621524842299e+114,\n",
       "  49: 1.305906898689265e+117,\n",
       "  50: 3.4806623723841694e+119})"
      ]
     },
     "metadata": {},
     "execution_count": 118
    }
   ],
   "source": [
    "regresion_lineal(data2.x, data2.y, 51, 10)"
   ]
  }
 ],
 "metadata": {
  "kernelspec": {
   "name": "python385jvsc74a57bd0d421f7e0be82773f79ff071f6681b3a26ad583fa2b319fe248c43945bdde9151",
   "display_name": "Python 3.8.5 64-bit (conda)"
  },
  "language_info": {
   "codemirror_mode": {
    "name": "ipython",
    "version": 3
   },
   "file_extension": ".py",
   "mimetype": "text/x-python",
   "name": "python",
   "nbconvert_exporter": "python",
   "pygments_lexer": "ipython3",
   "version": "3.8.5-final"
  },
  "metadata": {
   "interpreter": {
    "hash": "d0f1a46e1b8bb49f6fe66dfa14ba01e1c4ea6e7377c07a6040c9a42d856a631d"
   }
  }
 },
 "nbformat": 4,
 "nbformat_minor": 4
}